{
 "cells": [
  {
   "cell_type": "markdown",
   "id": "ba5f2a6a",
   "metadata": {},
   "source": [
    "# Data Science Tools and Ecosystem using HI style heading"
   ]
  },
  {
   "cell_type": "markdown",
   "id": "7c1b390c",
   "metadata": {},
   "source": [
    "In this notebook, Data Science Tools and Ecosystem are summarized."
   ]
  },
  {
   "cell_type": "markdown",
   "id": "79683412",
   "metadata": {},
   "source": [
    "**Objectives:**\n",
    "\n",
    "- List popular languages for Data Science\n",
    "- Identify commonly used libraries by data scientists\n",
    "- Introduce open-source development environment tools for Data Science\n",
    "- Understand arithmetic expressions in Python\n",
    "- Learn how to use markdown in Jupyter notebooks"
   ]
  },
  {
   "cell_type": "markdown",
   "id": "d6ea1788",
   "metadata": {},
   "source": [
    "Some of the popular languages that Data Scientists use are:\n",
    "\n",
    "1. Python\n",
    "2. R\n",
    "3. SQL\n"
   ]
  },
  {
   "cell_type": "markdown",
   "id": "2abb26e5",
   "metadata": {},
   "source": [
    "Some of the commonly used libraries used by Data Scientists include:\n",
    "\n",
    "1. Pandas\n",
    "2. NumPy\n",
    "3. Matplotlib"
   ]
  },
  {
   "cell_type": "markdown",
   "id": "a293e083",
   "metadata": {},
   "source": [
    "| Data Science Tools |\n",
    "| --- |\n",
    "| Jupyter Notebook |\n",
    "| RStudio |\n",
    "| Apache Zeppelin |"
   ]
  },
  {
   "cell_type": "markdown",
   "id": "a525024a",
   "metadata": {},
   "source": [
    "### Below are a few examples of evaluating arithmetic expressions in Python"
   ]
  },
  {
   "cell_type": "code",
   "execution_count": 2,
   "id": "402135bd",
   "metadata": {},
   "outputs": [
    {
     "data": {
      "text/plain": [
       "17"
      ]
     },
     "execution_count": 2,
     "metadata": {},
     "output_type": "execute_result"
    }
   ],
   "source": [
    "# This a simple arithmetic expression to mutiply then add integers\n",
    "(3*4)+5"
   ]
  },
  {
   "cell_type": "code",
   "execution_count": 3,
   "id": "48f82e0a",
   "metadata": {},
   "outputs": [
    {
     "data": {
      "text/plain": [
       "3.3333333333333335"
      ]
     },
     "execution_count": 3,
     "metadata": {},
     "output_type": "execute_result"
    }
   ],
   "source": [
    "# This will convert 200 minutes to hours by diving by 60\n",
    "200/60"
   ]
  },
  {
   "cell_type": "markdown",
   "id": "f32943ed",
   "metadata": {},
   "source": [
    "## Author\n",
    "Zoe Mousmoula"
   ]
  },
  {
   "cell_type": "code",
   "execution_count": null,
   "id": "52c2dd2c",
   "metadata": {},
   "outputs": [],
   "source": []
  }
 ],
 "metadata": {
  "kernelspec": {
   "display_name": "Python 3 (ipykernel)",
   "language": "python",
   "name": "python3"
  },
  "language_info": {
   "codemirror_mode": {
    "name": "ipython",
    "version": 3
   },
   "file_extension": ".py",
   "mimetype": "text/x-python",
   "name": "python",
   "nbconvert_exporter": "python",
   "pygments_lexer": "ipython3",
   "version": "3.11.3"
  }
 },
 "nbformat": 4,
 "nbformat_minor": 5
}
